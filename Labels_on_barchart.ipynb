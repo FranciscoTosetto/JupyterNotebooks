{
 "cells": [
  {
   "cell_type": "markdown",
   "metadata": {},
   "source": [
    "#### Creating a bar chart with labels on top of each bar"
   ]
  },
  {
   "cell_type": "code",
   "execution_count": null,
   "metadata": {},
   "outputs": [],
   "source": [
    "chart = df.plot(kind='bar', figsize=(12, 5), width=0.5, color=['black', 'red', 'blue'])\n",
    "\n",
    "\n",
    "# Adding Data Labels-------------------------------------------------------------------------\n",
    "for i, label in enumerate(list(df.index.values)):\n",
    "    bar1 = df.loc[label]['Column1'] # change the \"-0.35\" and \"+ 0.01\" values for placement\n",
    "    chart.annotate(str(bar1), (i -0.35, bar1 + 0.01), color='black', fontsize=12, weight='semibold')\n",
    "\n",
    "    bar2 = df.loc[label]['Column2'] # change the \"-0.075\" and \"+ 0.01\" values for placement\n",
    "    chart.annotate(str(bar2), (i - 0.075, bar2 + 0.01), color='black', fontsize=12, weight='semibold')\n",
    "\n",
    "    bar3 = df.loc[label]['Column3'] # change the \"-0.175\" and \"+ 0.01\" values for placement\n",
    "    chart.annotate(str(bar3), (i + 0.175, bar3 + 0.01), color='black', fontsize=12, weight='semibold')\n",
    "\n",
    "plt.show()"
   ]
  }
 ],
 "metadata": {
  "kernelspec": {
   "display_name": "Python 3",
   "language": "python",
   "name": "python3"
  },
  "language_info": {
   "codemirror_mode": {
    "name": "ipython",
    "version": 3
   },
   "file_extension": ".py",
   "mimetype": "text/x-python",
   "name": "python",
   "nbconvert_exporter": "python",
   "pygments_lexer": "ipython3",
   "version": "3.7.0"
  }
 },
 "nbformat": 4,
 "nbformat_minor": 2
}
