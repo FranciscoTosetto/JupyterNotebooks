{
 "cells": [
  {
   "cell_type": "markdown",
   "metadata": {},
   "source": [
    "### Creating a Dataframe with the average of multiple columns\n",
    "\n",
    "Creating the columns averages, if you do not want to round the numbers simply remove the round() function.\n",
    "    If you want a specified number of decimals just add a \",\" and an integer to the end of the round function.\n",
    "    Ex: round(tf[['Column 1', 'Column 2']].mean(axis=1), 2)"
   ]
  },
  {
   "cell_type": "code",
   "execution_count": null,
   "metadata": {},
   "outputs": [],
   "source": [
    "averages = {'New Column 1': round(df[['Column 1', 'Column 2', 'Column 3']].mean(axis=1)),\n",
    "            'New Column 2': round(df[['Column 1', 'Column 2']].mean(axis=1)),\n",
    "            'New Column 3': round(df[['Column 1', 'Column 2', 'Column 3']].mean(axis=1)),\n",
    "            'New Column 4': round(df[['Column 1', 'Column 2']].mean(axis=1))}\n",
    "\n",
    "# Creating the Dataframe\n",
    "df_with_average_columns = pd.DataFrame(data = averages)\n",
    "\n",
    "# Check it\n",
    "df_with_average_columns.head()"
   ]
  }
 ],
 "metadata": {
  "kernelspec": {
   "display_name": "Python 3",
   "language": "python",
   "name": "python3"
  },
  "language_info": {
   "codemirror_mode": {
    "name": "ipython",
    "version": 3
   },
   "file_extension": ".py",
   "mimetype": "text/x-python",
   "name": "python",
   "nbconvert_exporter": "python",
   "pygments_lexer": "ipython3",
   "version": "3.7.0"
  }
 },
 "nbformat": 4,
 "nbformat_minor": 2
}
